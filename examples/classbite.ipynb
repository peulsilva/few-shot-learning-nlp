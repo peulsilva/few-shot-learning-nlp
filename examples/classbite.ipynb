{
 "cells": [
  {
   "cell_type": "code",
   "execution_count": 1,
   "metadata": {},
   "outputs": [],
   "source": [
    "%load_ext autoreload\n",
    "%autoreload 2"
   ]
  },
  {
   "cell_type": "code",
   "execution_count": 30,
   "metadata": {},
   "outputs": [],
   "source": [
    "import transformers\n",
    "from transformers import AutoTokenizer, AutoModelForTokenClassification\n",
    "from datasets import load_dataset, Dataset\n",
    "import torch\n",
    "from torch.utils.data import DataLoader\n",
    "import matplotlib.pyplot as plt\n",
    "import numpy as np\n",
    "from tqdm import tqdm\n",
    "import logging\n",
    "from torcheval.metrics.functional import multiclass_f1_score, multiclass_confusion_matrix, binary_f1_score\n",
    "from copy import deepcopy, copy\n",
    "import seaborn as sns\n",
    "import pandas as pd\n",
    "\n",
    "from few_shot_learning_nlp.few_shot_ner_image_documents.classbite import ClassbiteTrainer\n",
    "from few_shot_learning_nlp.few_shot_ner_image_documents.image_dataset import ImageLayoutDataset\n",
    "from few_shot_learning_nlp.few_shot_ner_image_documents.classbite_dataset import generate_dataset"
   ]
  },
  {
   "cell_type": "code",
   "execution_count": 4,
   "metadata": {},
   "outputs": [],
   "source": [
    "device = \"cuda\" if torch.cuda.is_available() else \"cpu\""
   ]
  },
  {
   "cell_type": "markdown",
   "metadata": {},
   "source": [
    "## Loading FUNSD Dataset"
   ]
  },
  {
   "cell_type": "code",
   "execution_count": 5,
   "metadata": {},
   "outputs": [
    {
     "name": "stderr",
     "output_type": "stream",
     "text": [
      "/Data/pedro.silva/miniconda3/envs/new_venv/lib/python3.9/site-packages/datasets/load.py:1429: FutureWarning: The repository for nielsr/funsd contains custom code which must be executed to correctly load the dataset. You can inspect the repository content at https://hf.co/datasets/nielsr/funsd\n",
      "You can avoid this message in future by passing the argument `trust_remote_code=True`.\n",
      "Passing `trust_remote_code=True` will be mandatory to load this dataset from the next major release of `datasets`.\n",
      "  warnings.warn(\n"
     ]
    }
   ],
   "source": [
    "funsd_dataset = load_dataset(\"nielsr/funsd\",\n",
    "                             cache_dir = \"/Data/pedro.silva/\")"
   ]
  },
  {
   "cell_type": "code",
   "execution_count": 6,
   "metadata": {},
   "outputs": [],
   "source": [
    "tokenizer = AutoTokenizer.from_pretrained(\"bert-base-uncased\",\n",
    "                                          cache_dir = \"/Data/pedro.silva\")"
   ]
  },
  {
   "cell_type": "code",
   "execution_count": 7,
   "metadata": {},
   "outputs": [],
   "source": [
    "l = funsd_dataset['train'].features['ner_tags'].feature.names"
   ]
  },
  {
   "cell_type": "code",
   "execution_count": 8,
   "metadata": {},
   "outputs": [],
   "source": [
    "idx2label = {}\n",
    "for k, v in enumerate(l):\n",
    "    if v == 'O':\n",
    "        idx2label[k] = \"none\"\n",
    "\n",
    "    else:\n",
    "        idx2label[k] = v.split('-')[1].lower() "
   ]
  },
  {
   "cell_type": "code",
   "execution_count": 9,
   "metadata": {},
   "outputs": [],
   "source": [
    "label_names =[\"header\", \"question\", \"answer\", \"none\"]\n",
    "n_classes= len(label_names)"
   ]
  },
  {
   "cell_type": "code",
   "execution_count": 10,
   "metadata": {},
   "outputs": [
    {
     "data": {
      "text/plain": [
       "'[SEP]'"
      ]
     },
     "execution_count": 10,
     "metadata": {},
     "output_type": "execute_result"
    }
   ],
   "source": [
    "tokenizer.sep_token"
   ]
  },
  {
   "cell_type": "markdown",
   "metadata": {},
   "source": [
    "## Running model without line split"
   ]
  },
  {
   "cell_type": "markdown",
   "metadata": {},
   "source": [
    "### 2 Shots"
   ]
  },
  {
   "cell_type": "code",
   "execution_count": null,
   "metadata": {},
   "outputs": [],
   "source": []
  },
  {
   "cell_type": "markdown",
   "metadata": {},
   "source": [
    "Generate dataset will generate n_shots * num_classes samples in the following format\n",
    "\n",
    "`{`\n",
    "\n",
    "`words: [target_word, SEP, word_1, ..., word_n]`\n",
    "\n",
    "`ner_tags: [1, -100, class of word 1 == target_word, ..., class of word n == target_word]`\n",
    "\n",
    "`}` \n"
   ]
  },
  {
   "cell_type": "code",
   "execution_count": 11,
   "metadata": {},
   "outputs": [],
   "source": [
    "train_data = generate_dataset(\n",
    "    funsd_dataset['train'],\n",
    "    label_names,\n",
    "    idx2label,\n",
    "    tokenizer,\n",
    "    n_shots=2,\n",
    ")\n",
    "\n",
    "val_data = generate_dataset(\n",
    "    Dataset.from_dict(funsd_dataset['train'][10:]),\n",
    "    label_names,\n",
    "    idx2label,\n",
    "    tokenizer,\n",
    "    n_shots=50,\n",
    ")\n",
    "\n",
    "test_data = generate_dataset(\n",
    "    funsd_dataset['test'],\n",
    "    label_names,\n",
    "    idx2label,\n",
    "    tokenizer,\n",
    "    n_shots = np.inf,\n",
    ")"
   ]
  },
  {
   "cell_type": "code",
   "execution_count": 12,
   "metadata": {},
   "outputs": [
    {
     "data": {
      "text/html": [
       "<div>\n",
       "<style scoped>\n",
       "    .dataframe tbody tr th:only-of-type {\n",
       "        vertical-align: middle;\n",
       "    }\n",
       "\n",
       "    .dataframe tbody tr th {\n",
       "        vertical-align: top;\n",
       "    }\n",
       "\n",
       "    .dataframe thead th {\n",
       "        text-align: right;\n",
       "    }\n",
       "</style>\n",
       "<table border=\"1\" class=\"dataframe\">\n",
       "  <thead>\n",
       "    <tr style=\"text-align: right;\">\n",
       "      <th></th>\n",
       "      <th>ner_tags</th>\n",
       "      <th>words</th>\n",
       "      <th>bboxes</th>\n",
       "    </tr>\n",
       "  </thead>\n",
       "  <tbody>\n",
       "    <tr>\n",
       "      <th>0</th>\n",
       "      <td>[1, -100, 0, 0, 0, 0, 0, 0, 0, 0, 1, 1, 1, 1, ...</td>\n",
       "      <td>[header, [SEP], R&amp;D, :, Suggestion:, Date:, Li...</td>\n",
       "      <td>[[0, 0, 0, 0], [0, 0, 0, 0], [383, 91, 493, 17...</td>\n",
       "    </tr>\n",
       "    <tr>\n",
       "      <th>1</th>\n",
       "      <td>[1, -100, 0, 1, 1, 1, 0, 1, 1, 0, 0, 0, 0, 0, ...</td>\n",
       "      <td>[question, [SEP], R&amp;D, :, Suggestion:, Date:, ...</td>\n",
       "      <td>[[0, 0, 0, 0], [0, 0, 0, 0], [383, 91, 493, 17...</td>\n",
       "    </tr>\n",
       "    <tr>\n",
       "      <th>2</th>\n",
       "      <td>[1, -100, 0, 0, 0, 0, 1, 0, 0, 0, 0, 0, 0, 0, ...</td>\n",
       "      <td>[answer, [SEP], R&amp;D, :, Suggestion:, Date:, Li...</td>\n",
       "      <td>[[0, 0, 0, 0], [0, 0, 0, 0], [383, 91, 493, 17...</td>\n",
       "    </tr>\n",
       "    <tr>\n",
       "      <th>3</th>\n",
       "      <td>[1, -100, 1, 0, 0, 0, 0, 0, 0, 1, 0, 0, 0, 0, ...</td>\n",
       "      <td>[none, [SEP], R&amp;D, :, Suggestion:, Date:, Lice...</td>\n",
       "      <td>[[0, 0, 0, 0], [0, 0, 0, 0], [383, 91, 493, 17...</td>\n",
       "    </tr>\n",
       "    <tr>\n",
       "      <th>4</th>\n",
       "      <td>[1, -100, 0, 0, 0, 0, 0, 0, 0, 0, 1, 1, 0, 0, ...</td>\n",
       "      <td>[header, [SEP], Brand:, Style:, PHOENIX, Compa...</td>\n",
       "      <td>[[0, 0, 0, 0], [0, 0, 0, 0], [99, 129, 154, 13...</td>\n",
       "    </tr>\n",
       "    <tr>\n",
       "      <th>5</th>\n",
       "      <td>[1, -100, 1, 1, 0, 1, 1, 1, 0, 0, 0, 0, 1, 1, ...</td>\n",
       "      <td>[question, [SEP], Brand:, Style:, PHOENIX, Com...</td>\n",
       "      <td>[[0, 0, 0, 0], [0, 0, 0, 0], [99, 129, 154, 13...</td>\n",
       "    </tr>\n",
       "    <tr>\n",
       "      <th>6</th>\n",
       "      <td>[1, -100, 0, 0, 1, 0, 0, 0, 1, 1, 0, 0, 0, 0, ...</td>\n",
       "      <td>[answer, [SEP], Brand:, Style:, PHOENIX, Compa...</td>\n",
       "      <td>[[0, 0, 0, 0], [0, 0, 0, 0], [99, 129, 154, 13...</td>\n",
       "    </tr>\n",
       "    <tr>\n",
       "      <th>7</th>\n",
       "      <td>[1, -100, 0, 0, 0, 0, 0, 0, 0, 0, 0, 0, 0, 0, ...</td>\n",
       "      <td>[none, [SEP], Brand:, Style:, PHOENIX, Company...</td>\n",
       "      <td>[[0, 0, 0, 0], [0, 0, 0, 0], [99, 129, 154, 13...</td>\n",
       "    </tr>\n",
       "  </tbody>\n",
       "</table>\n",
       "</div>"
      ],
      "text/plain": [
       "                                            ner_tags  \\\n",
       "0  [1, -100, 0, 0, 0, 0, 0, 0, 0, 0, 1, 1, 1, 1, ...   \n",
       "1  [1, -100, 0, 1, 1, 1, 0, 1, 1, 0, 0, 0, 0, 0, ...   \n",
       "2  [1, -100, 0, 0, 0, 0, 1, 0, 0, 0, 0, 0, 0, 0, ...   \n",
       "3  [1, -100, 1, 0, 0, 0, 0, 0, 0, 1, 0, 0, 0, 0, ...   \n",
       "4  [1, -100, 0, 0, 0, 0, 0, 0, 0, 0, 1, 1, 0, 0, ...   \n",
       "5  [1, -100, 1, 1, 0, 1, 1, 1, 0, 0, 0, 0, 1, 1, ...   \n",
       "6  [1, -100, 0, 0, 1, 0, 0, 0, 1, 1, 0, 0, 0, 0, ...   \n",
       "7  [1, -100, 0, 0, 0, 0, 0, 0, 0, 0, 0, 0, 0, 0, ...   \n",
       "\n",
       "                                               words  \\\n",
       "0  [header, [SEP], R&D, :, Suggestion:, Date:, Li...   \n",
       "1  [question, [SEP], R&D, :, Suggestion:, Date:, ...   \n",
       "2  [answer, [SEP], R&D, :, Suggestion:, Date:, Li...   \n",
       "3  [none, [SEP], R&D, :, Suggestion:, Date:, Lice...   \n",
       "4  [header, [SEP], Brand:, Style:, PHOENIX, Compa...   \n",
       "5  [question, [SEP], Brand:, Style:, PHOENIX, Com...   \n",
       "6  [answer, [SEP], Brand:, Style:, PHOENIX, Compa...   \n",
       "7  [none, [SEP], Brand:, Style:, PHOENIX, Company...   \n",
       "\n",
       "                                              bboxes  \n",
       "0  [[0, 0, 0, 0], [0, 0, 0, 0], [383, 91, 493, 17...  \n",
       "1  [[0, 0, 0, 0], [0, 0, 0, 0], [383, 91, 493, 17...  \n",
       "2  [[0, 0, 0, 0], [0, 0, 0, 0], [383, 91, 493, 17...  \n",
       "3  [[0, 0, 0, 0], [0, 0, 0, 0], [383, 91, 493, 17...  \n",
       "4  [[0, 0, 0, 0], [0, 0, 0, 0], [99, 129, 154, 13...  \n",
       "5  [[0, 0, 0, 0], [0, 0, 0, 0], [99, 129, 154, 13...  \n",
       "6  [[0, 0, 0, 0], [0, 0, 0, 0], [99, 129, 154, 13...  \n",
       "7  [[0, 0, 0, 0], [0, 0, 0, 0], [99, 129, 154, 13...  "
      ]
     },
     "execution_count": 12,
     "metadata": {},
     "output_type": "execute_result"
    }
   ],
   "source": [
    "train_data.to_pandas()"
   ]
  },
  {
   "cell_type": "code",
   "execution_count": 13,
   "metadata": {},
   "outputs": [
    {
     "name": "stderr",
     "output_type": "stream",
     "text": [
      "  0%|          | 0/8 [00:00<?, ?it/s]"
     ]
    },
    {
     "name": "stderr",
     "output_type": "stream",
     "text": [
      "huggingface/tokenizers: The current process just got forked, after parallelism has already been used. Disabling parallelism to avoid deadlocks...\n",
      "To disable this warning, you can either:\n",
      "\t- Avoid using `tokenizers` before the fork if possible\n",
      "\t- Explicitly set the environment variable TOKENIZERS_PARALLELISM=(true | false)\n",
      "huggingface/tokenizers: The current process just got forked, after parallelism has already been used. Disabling parallelism to avoid deadlocks...\n",
      "To disable this warning, you can either:\n",
      "\t- Avoid using `tokenizers` before the fork if possible\n",
      "\t- Explicitly set the environment variable TOKENIZERS_PARALLELISM=(true | false)\n",
      "100%|██████████| 8/8 [00:00<00:00,  9.09it/s]\n"
     ]
    }
   ],
   "source": [
    "train_dataset = ImageLayoutDataset(\n",
    "    train_data,\n",
    "    tokenizer    \n",
    ")\n",
    "\n",
    "train_dataloader = DataLoader(\n",
    "    train_dataset,\n",
    "    shuffle=False\n",
    ")"
   ]
  },
  {
   "cell_type": "code",
   "execution_count": 14,
   "metadata": {},
   "outputs": [
    {
     "name": "stderr",
     "output_type": "stream",
     "text": [
      "  0%|          | 0/200 [00:00<?, ?it/s]"
     ]
    },
    {
     "name": "stderr",
     "output_type": "stream",
     "text": [
      "100%|██████████| 200/200 [00:02<00:00, 68.71it/s]\n"
     ]
    }
   ],
   "source": [
    "validation_dataset = ImageLayoutDataset(\n",
    "    val_data,\n",
    "    tokenizer    \n",
    ")\n",
    "\n",
    "validation_dataloader = DataLoader(\n",
    "    validation_dataset,\n",
    "    shuffle=False,\n",
    "    batch_size= 4\n",
    ")"
   ]
  },
  {
   "cell_type": "code",
   "execution_count": 15,
   "metadata": {},
   "outputs": [
    {
     "name": "stderr",
     "output_type": "stream",
     "text": [
      "  0%|          | 0/200 [00:00<?, ?it/s]"
     ]
    },
    {
     "name": "stderr",
     "output_type": "stream",
     "text": [
      "100%|██████████| 200/200 [00:03<00:00, 64.49it/s]\n"
     ]
    }
   ],
   "source": [
    "test_dataset = ImageLayoutDataset(\n",
    "    test_data,\n",
    "    tokenizer    \n",
    ")\n",
    "\n",
    "test_dataloader = DataLoader(\n",
    "    test_dataset,\n",
    "    shuffle=False,\n",
    "    batch_size= 4\n",
    ")"
   ]
  },
  {
   "cell_type": "code",
   "execution_count": 16,
   "metadata": {},
   "outputs": [
    {
     "name": "stderr",
     "output_type": "stream",
     "text": [
      "100%|██████████| 100/100 [09:57<00:00,  5.98s/it]"
     ]
    },
    {
     "name": "stdout",
     "output_type": "stream",
     "text": [
      "f1-score : 0.5760209560394287\n",
      "tensor([[  11,   15,   17,    7],\n",
      "        [ 286, 1710,  507,  334],\n",
      "        [ 206,  856, 2439,  828],\n",
      "        [   0,    2,   15,   15]], device='cuda:0')\n"
     ]
    },
    {
     "name": "stderr",
     "output_type": "stream",
     "text": [
      "\n"
     ]
    }
   ],
   "source": [
    "model = AutoModelForTokenClassification.from_pretrained(\n",
    "    \"bert-base-uncased\",\n",
    "    cache_dir = \"/Data/pedro.silva/\",\n",
    "    num_labels = 2\n",
    ")\n",
    "model.to(device)\n",
    "\n",
    "optimizer = torch.optim.Adam(\n",
    "    model.parameters(),\n",
    "    lr = 1e-5\n",
    ")\n",
    "\n",
    "trainer = ClassbiteTrainer(\n",
    "    model,\n",
    "    optimizer,\n",
    "    n_classes\n",
    ")\n",
    "\n",
    "history = trainer.train(\n",
    "    train_dataloader, \n",
    "    validation_dataloader,\n",
    "    n_epochs = 100\n",
    ")"
   ]
  },
  {
   "cell_type": "code",
   "execution_count": 17,
   "metadata": {},
   "outputs": [],
   "source": [
    "best_f1, best_epoch = np.max(history), np.argmax(history)"
   ]
  },
  {
   "cell_type": "code",
   "execution_count": 18,
   "metadata": {},
   "outputs": [
    {
     "data": {
      "image/png": "[encoded data removed]",
      "text/plain": [
       "<Figure size 640x480 with 1 Axes>"
      ]
     },
     "metadata": {},
     "output_type": "display_data"
    }
   ],
   "source": [
    "plt.plot(history)\n",
    "plt.scatter(\n",
    "    [best_epoch],\n",
    "    [best_f1],\n",
    "    color = \"green\",\n",
    "    label = f\"Best f1 : {round(best_f1,3)}\"\n",
    ")\n",
    "plt.legend()\n",
    "plt.ylabel(\"f1 score\")\n",
    "plt.xlabel(\"epoch\")\n",
    "plt.title(\"Validation performance - FUNSD - 2 shots\")\n",
    "plt.grid()"
   ]
  },
  {
   "cell_type": "code",
   "execution_count": 31,
   "metadata": {},
   "outputs": [
    {
     "name": "stderr",
     "output_type": "stream",
     "text": [
      "100%|██████████| 50/50 [00:04<00:00, 10.08it/s]\n"
     ]
    }
   ],
   "source": [
    "y_pred, y_true = trainer.test(\n",
    "    test_dataloader\n",
    ")"
   ]
  },
  {
   "cell_type": "code",
   "execution_count": 32,
   "metadata": {},
   "outputs": [],
   "source": [
    "f1 = multiclass_f1_score(\n",
    "    y_pred.to(torch.int64),\n",
    "    y_true.to(torch.int64),\n",
    "    num_classes = n_classes\n",
    ")\n",
    "\n",
    "\n",
    "conf_matrix = multiclass_confusion_matrix(\n",
    "    y_pred.to(torch.int64),\n",
    "    y_true.to(torch.int64),\n",
    "    num_classes = n_classes\n",
    ")\n"
   ]
  },
  {
   "cell_type": "code",
   "execution_count": 33,
   "metadata": {},
   "outputs": [
    {
     "data": {
      "text/plain": [
       "tensor(0.5160, device='cuda:0')"
      ]
     },
     "execution_count": 33,
     "metadata": {},
     "output_type": "execute_result"
    }
   ],
   "source": [
    "f1"
   ]
  },
  {
   "cell_type": "code",
   "execution_count": null,
   "metadata": {},
   "outputs": [],
   "source": []
  }
 ],
 "metadata": {
  "kernelspec": {
   "display_name": ".venv",
   "language": "python",
   "name": "python3"
  },
  "language_info": {
   "codemirror_mode": {
    "name": "ipython",
    "version": 3
   },
   "file_extension": ".py",
   "mimetype": "text/x-python",
   "name": "python",
   "nbconvert_exporter": "python",
   "pygments_lexer": "ipython3",
   "version": "3.9.18"
  }
 },
 "nbformat": 4,
 "nbformat_minor": 2
}
