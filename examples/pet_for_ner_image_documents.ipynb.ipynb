{
 "cells": [
  {
   "cell_type": "code",
   "execution_count": 1,
   "metadata": {},
   "outputs": [],
   "source": [
    "%load_ext autoreload\n",
    "%autoreload 2"
   ]
  },
  {
   "cell_type": "code",
   "execution_count": 3,
   "metadata": {},
   "outputs": [],
   "source": [
    "from transformers import AutoTokenizer, AutoModelForMaskedLM\n",
    "from datasets import load_dataset, Dataset\n",
    "import torch\n",
    "import matplotlib.pyplot as plt\n",
    "import numpy as np\n",
    "from tqdm import tqdm\n",
    "import logging\n",
    "from torch.utils.data import DataLoader\n",
    "from torcheval.metrics.functional import multiclass_f1_score, multiclass_confusion_matrix\n",
    "import seaborn as sns\n",
    "import pandas as pd\n",
    "import re\n",
    "from typing import List, Dict\n",
    "    \n",
    "from few_shot_learning_nlp.few_shot_ner_image_documents.splitter import SplitWordsDataset\n",
    "from few_shot_learning_nlp.few_shot_text_classification.pattern_exploiting_dataset import PETDatasetForClassification\n",
    "from few_shot_learning_nlp.few_shot_text_classification.pattern_exploiting import PETTrainer\n",
    "import warnings\n",
    "warnings.filterwarnings(\"ignore\")"
   ]
  },
  {
   "cell_type": "code",
   "execution_count": 4,
   "metadata": {},
   "outputs": [],
   "source": [
    "device = \"cuda\" if torch.cuda.is_available() else \"cpu\""
   ]
  },
  {
   "cell_type": "markdown",
   "metadata": {},
   "source": [
    "## Importing dataset"
   ]
  },
  {
   "cell_type": "code",
   "execution_count": 5,
   "metadata": {},
   "outputs": [],
   "source": [
    "dataset = load_dataset(\"nielsr/funsd\",\n",
    "                       cache_dir= \"/Data/pedro.silva/\")"
   ]
  },
  {
   "cell_type": "code",
   "execution_count": 6,
   "metadata": {},
   "outputs": [],
   "source": [
    "tokenizer = AutoTokenizer.from_pretrained(\"distilbert-base-uncased\",\n",
    "                                          cache_dir = \"/Data/pedro.silva/\")"
   ]
  },
  {
   "cell_type": "code",
   "execution_count": 7,
   "metadata": {},
   "outputs": [
    {
     "data": {
      "text/plain": [
       "['O',\n",
       " 'B-HEADER',\n",
       " 'I-HEADER',\n",
       " 'B-QUESTION',\n",
       " 'I-QUESTION',\n",
       " 'B-ANSWER',\n",
       " 'I-ANSWER']"
      ]
     },
     "execution_count": 7,
     "metadata": {},
     "output_type": "execute_result"
    }
   ],
   "source": [
    "dataset['train'].features['ner_tags'].feature.names"
   ]
  },
  {
   "cell_type": "code",
   "execution_count": 8,
   "metadata": {},
   "outputs": [],
   "source": [
    "class2idx = {\n",
    "    # \"none\": 0,\n",
    "    \"none\": 0,\n",
    "    \"question\" : 1,\n",
    "    \"answer\": 2,\n",
    "    \"header\" : 3,\n",
    "}\n",
    "\n",
    "idx2class = {v:k for k,v in class2idx.items()}\n",
    "\n",
    "class_names = [k for k in class2idx.keys()]\n",
    "\n",
    "verbalizer = {idx : tokenizer.vocab[x.lower()] for idx, x in enumerate(class_names)}\n",
    "inverse_verbalizer = {tokenizer.vocab[x.lower()] : idx for idx, x in enumerate(class_names)}"
   ]
  },
  {
   "cell_type": "code",
   "execution_count": 9,
   "metadata": {},
   "outputs": [
    {
     "data": {
      "text/plain": [
       "{0: 3904, 1: 3160, 2: 3437, 3: 20346}"
      ]
     },
     "execution_count": 9,
     "metadata": {},
     "output_type": "execute_result"
    }
   ],
   "source": [
    "verbalizer"
   ]
  },
  {
   "cell_type": "markdown",
   "metadata": {},
   "source": [
    "## Create dataset"
   ]
  },
  {
   "cell_type": "code",
   "execution_count": 10,
   "metadata": {},
   "outputs": [],
   "source": [
    "def pattern(\n",
    "    phrase : str, \n",
    "    word : str,\n",
    "    tokenizer : AutoTokenizer\n",
    "):\n",
    "    return f\"In the phrase '{phrase}', the {word} is in the header, in a question, or in an answer? {tokenizer.mask_token}\""
   ]
  },
  {
   "cell_type": "code",
   "execution_count": 11,
   "metadata": {},
   "outputs": [
    {
     "name": "stderr",
     "output_type": "stream",
     "text": [
      "100%|██████████| 149/149 [00:00<00:00, 743.23it/s]\n"
     ]
    }
   ],
   "source": [
    "train_phrases = SplitWordsDataset(\n",
    "    dataset['train'],\n",
    "    tokenizer,\n",
    "    pattern,\n",
    ")"
   ]
  },
  {
   "cell_type": "code",
   "execution_count": 12,
   "metadata": {},
   "outputs": [
    {
     "name": "stderr",
     "output_type": "stream",
     "text": [
      "100%|██████████| 50/50 [00:00<00:00, 1267.61it/s]\n"
     ]
    }
   ],
   "source": [
    "test_phrases = SplitWordsDataset(\n",
    "    dataset['test'],\n",
    "    tokenizer,\n",
    "    pattern,\n",
    ")"
   ]
  },
  {
   "cell_type": "code",
   "execution_count": 13,
   "metadata": {},
   "outputs": [
    {
     "name": "stderr",
     "output_type": "stream",
     "text": [
      "100%|██████████| 5/5 [00:00<00:00, 1591.40it/s]\n"
     ]
    }
   ],
   "source": [
    "validation_dataset = Dataset.from_dict(dataset['train'][100:105])\n",
    "validation_phrases  = SplitWordsDataset(\n",
    "    validation_dataset,\n",
    "    tokenizer,\n",
    "    pattern,\n",
    "    label_names = dataset['train'].features['ner_tags'].feature.names\n",
    ")"
   ]
  },
  {
   "cell_type": "code",
   "execution_count": 15,
   "metadata": {},
   "outputs": [
    {
     "ename": "AttributeError",
     "evalue": "'SplitWordsDataset' object has no attribute 'get_processed_data'",
     "output_type": "error",
     "traceback": [
      "\u001b[0;31m---------------------------------------------------------------------------\u001b[0m",
      "\u001b[0;31mAttributeError\u001b[0m                            Traceback (most recent call last)",
      "Cell \u001b[0;32mIn[15], line 1\u001b[0m\n\u001b[0;32m----> 1\u001b[0m processed_text_val, labels_val \u001b[38;5;241m=\u001b[39m \u001b[43mvalidation_phrases\u001b[49m\u001b[38;5;241;43m.\u001b[39;49m\u001b[43mget_processed_data\u001b[49m(validation_phrases, n_shots\u001b[38;5;241m=\u001b[39m\u001b[38;5;241m50\u001b[39m)\n",
      "\u001b[0;31mAttributeError\u001b[0m: 'SplitWordsDataset' object has no attribute 'get_processed_data'"
     ]
    }
   ],
   "source": [
    "processed_text_val, labels_val = validation_phrases.get_processed_data(validation_phrases, n_shots=50)"
   ]
  },
  {
   "cell_type": "code",
   "execution_count": 85,
   "metadata": {},
   "outputs": [
    {
     "name": "stderr",
     "output_type": "stream",
     "text": [
      "606it [00:06, 88.35it/s]\n"
     ]
    }
   ],
   "source": [
    "validation_dataset = PETDatasetForClassification(\n",
    "    processed_text_val,\n",
    "    labels_val,\n",
    "    tokenizer\n",
    ")\n",
    "validation_dataloader = DataLoader(\n",
    "    validation_dataset\n",
    ")"
   ]
  },
  {
   "cell_type": "markdown",
   "metadata": {},
   "source": [
    "## Training"
   ]
  },
  {
   "cell_type": "code",
   "execution_count": 16,
   "metadata": {},
   "outputs": [
    {
     "ename": "AttributeError",
     "evalue": "'SplitWordsDataset' object has no attribute 'get_processed_data'",
     "output_type": "error",
     "traceback": [
      "\u001b[0;31m---------------------------------------------------------------------------\u001b[0m",
      "\u001b[0;31mAttributeError\u001b[0m                            Traceback (most recent call last)",
      "Cell \u001b[0;32mIn[16], line 2\u001b[0m\n\u001b[1;32m      1\u001b[0m n_shots \u001b[38;5;241m=\u001b[39m \u001b[38;5;241m2\u001b[39m\n\u001b[0;32m----> 2\u001b[0m processed_text, labels \u001b[38;5;241m=\u001b[39m \u001b[43mtrain_phrases\u001b[49m\u001b[38;5;241;43m.\u001b[39;49m\u001b[43mget_processed_data\u001b[49m(n_shots)\n",
      "\u001b[0;31mAttributeError\u001b[0m: 'SplitWordsDataset' object has no attribute 'get_processed_data'"
     ]
    }
   ],
   "source": [
    "n_shots = 2\n",
    "processed_text, labels = train_phrases.get_processed_data(n_shots)\n"
   ]
  },
  {
   "cell_type": "code",
   "execution_count": 88,
   "metadata": {},
   "outputs": [
    {
     "name": "stderr",
     "output_type": "stream",
     "text": [
      "357it [00:04, 85.22it/s]\n"
     ]
    }
   ],
   "source": [
    "train_dataset = PETDatasetForClassification(\n",
    "    processed_text,\n",
    "    labels,\n",
    "    tokenizer\n",
    ")\n",
    "\n",
    "train_dataloader = DataLoader(train_dataset,)"
   ]
  },
  {
   "cell_type": "code",
   "execution_count": 89,
   "metadata": {},
   "outputs": [
    {
     "name": "stderr",
     "output_type": "stream",
     "text": [
      "352it [00:04, 85.55it/s]\n"
     ]
    }
   ],
   "source": [
    "processed_text, labels = test_phrases.get_processed_data(n_shots)\n",
    "\n",
    "test_dataset = PETDatasetForClassification(\n",
    "    processed_text,\n",
    "    labels,\n",
    "    tokenizer\n",
    ")\n",
    "\n",
    "test_dataloader = DataLoader(test_dataset,)"
   ]
  },
  {
   "cell_type": "code",
   "execution_count": 90,
   "metadata": {},
   "outputs": [
    {
     "name": "stdout",
     "output_type": "stream",
     "text": [
      "Epoch 9\n",
      "f1-score : 0.5577557682991028\n",
      "tensor([[  2,  36,  56,   3],\n",
      "        [  1, 157,  94,   5],\n",
      "        [  1,  41, 179,   2],\n",
      "        [  0,  22,   7,   0]], device='cuda:0')\n"
     ]
    }
   ],
   "source": [
    "model = AutoModelForMaskedLM.from_pretrained(\"distilbert-base-uncased\", cache_dir = '/Data/pedro.silva/')\n",
    "model.to(device)\n",
    "\n",
    "history, confusion_matrix, best_model = train(\n",
    "    train_dataloader,\n",
    "    validation_dataset,\n",
    "    len(verbalizer),\n",
    "    model,\n",
    "    verbalizer,\n",
    "    tokenizer,\n",
    "    alpha= 1e-5\n",
    ")"
   ]
  },
  {
   "cell_type": "code",
   "execution_count": 91,
   "metadata": {},
   "outputs": [],
   "source": [
    "def get_y_true(\n",
    "    input: Dict[str, torch.Tensor],\n",
    "    inverse_verbalizer : Dict,\n",
    "    device : str = \"cuda\",\n",
    ")-> torch.tensor:\n",
    "    \n",
    "    y_true = input['labels']\n",
    "    y_true = y_true[y_true!= -100].item()\n",
    "    y_true = inverse_verbalizer[y_true]\n",
    "    \n",
    "    return torch.tensor(y_true, device= device)"
   ]
  },
  {
   "cell_type": "code",
   "execution_count": 92,
   "metadata": {},
   "outputs": [
    {
     "name": "stderr",
     "output_type": "stream",
     "text": [
      "  3%|▎         | 12/352 [00:00<00:03, 111.35it/s]"
     ]
    },
    {
     "name": "stderr",
     "output_type": "stream",
     "text": [
      "100%|██████████| 352/352 [00:03<00:00, 108.31it/s]\n"
     ]
    }
   ],
   "source": [
    "with torch.no_grad():\n",
    "    y_true_test = torch.tensor([],device=device)\n",
    "    y_pred_test = torch.tensor([],device=device)\n",
    "\n",
    "    for input in tqdm(test_dataloader):\n",
    "        out = best_model(**input)\n",
    "\n",
    "        y_true = get_y_true(\n",
    "            input,\n",
    "            inverse_verbalizer\n",
    "        )\n",
    "\n",
    "        try:\n",
    "            mask_token_index = torch.where(input[\"input_ids\"] == tokenizer.mask_token_id)[1]\n",
    "\n",
    "        except:\n",
    "            mask_token_index = torch.where(input[\"input_ids\"] == tokenizer.mask_token_id)[0]\n",
    "        mask_token_logits = out.logits[0, mask_token_index, :]\n",
    "        \n",
    "        predictions = torch.Tensor(\n",
    "            [mask_token_logits[0,x] for x in verbalizer.values()]\n",
    "        )\n",
    "\n",
    "        y_pred = predictions.argmax().to(device)\n",
    "\n",
    "        y_pred_test = torch.cat([\n",
    "            y_pred_test, \n",
    "            torch.tensor([y_pred]).to(device)\n",
    "        ])\n",
    "\n",
    "        y_true_test = torch.cat([\n",
    "            y_true_test,\n",
    "            torch.tensor([y_true]).to(device)\n",
    "        ])\n",
    "    \n",
    "    f1 = multiclass_f1_score(\n",
    "        y_pred_test,\n",
    "        y_true_test,\n",
    "        num_classes= len(class2idx)\n",
    "    )\n"
   ]
  },
  {
   "cell_type": "code",
   "execution_count": 93,
   "metadata": {},
   "outputs": [
    {
     "data": {
      "text/plain": [
       "tensor(0.4261, device='cuda:0')"
      ]
     },
     "execution_count": 93,
     "metadata": {},
     "output_type": "execute_result"
    }
   ],
   "source": [
    "f1"
   ]
  },
  {
   "cell_type": "code",
   "execution_count": 94,
   "metadata": {},
   "outputs": [
    {
     "data": {
      "text/plain": [
       "tensor([[  0,  24,  51,   0],\n",
       "        [  0,  41,   8,   0],\n",
       "        [  4,  79, 108,   4],\n",
       "        [  2,  18,  12,   1]], device='cuda:0')"
      ]
     },
     "execution_count": 94,
     "metadata": {},
     "output_type": "execute_result"
    }
   ],
   "source": [
    "multiclass_confusion_matrix(\n",
    "    y_pred_test.to(torch.int64),\n",
    "    y_true_test.to(torch.int64),\n",
    "    num_classes= len(class2idx)\n",
    ")"
   ]
  },
  {
   "cell_type": "code",
   "execution_count": 95,
   "metadata": {},
   "outputs": [
    {
     "data": {
      "text/plain": [
       "<matplotlib.legend.Legend at 0x7f11d8e602e0>"
      ]
     },
     "execution_count": 95,
     "metadata": {},
     "output_type": "execute_result"
    },
    {
     "data": {
      "image/png": "[encoded data removed]",
      "text/plain": [
       "<Figure size 640x480 with 1 Axes>"
      ]
     },
     "metadata": {},
     "output_type": "display_data"
    }
   ],
   "source": [
    "plt.plot(history)\n",
    "plt.scatter(\n",
    "    np.argmax(history),\n",
    "    np.max(history),\n",
    "    label = f\"f1 = {np.max(history)}\",\n",
    "    c = \"green\"\n",
    ")\n",
    "\n",
    "plt.grid()\n",
    "plt.title(f\"F1 score over epochs - {n_shots} shots\")\n",
    "plt.xlabel(\"epoch\")\n",
    "plt.ylabel(\"F1 score\")\n",
    "plt.legend()"
   ]
  },
  {
   "cell_type": "code",
   "execution_count": 96,
   "metadata": {},
   "outputs": [
    {
     "data": {
      "text/plain": [
       "Text(0.5, 1.0, 'Confusion Matrix FUNSD - 2 shots')"
      ]
     },
     "execution_count": 96,
     "metadata": {},
     "output_type": "execute_result"
    },
    {
     "data": {
      "image/png": "[encoded data removed]",
      "text/plain": [
       "<Figure size 640x480 with 2 Axes>"
      ]
     },
     "metadata": {},
     "output_type": "display_data"
    }
   ],
   "source": [
    "df = pd.DataFrame(\n",
    "    confusion_matrix.to(\"cpu\").numpy(),\n",
    "    index = class_names,\n",
    "    columns=class_names\n",
    "    \n",
    ")\n",
    "\n",
    "sns.heatmap(\n",
    "    df,\n",
    "    annot = True,\n",
    "    fmt = '2g',\n",
    ")\n",
    "\n",
    "plt.title(f\"Confusion Matrix {dataset_name} - {n_shots} shots\")"
   ]
  },
  {
   "cell_type": "code",
   "execution_count": null,
   "metadata": {},
   "outputs": [],
   "source": []
  }
 ],
 "metadata": {
  "kernelspec": {
   "display_name": ".venv",
   "language": "python",
   "name": "python3"
  },
  "language_info": {
   "codemirror_mode": {
    "name": "ipython",
    "version": 3
   },
   "file_extension": ".py",
   "mimetype": "text/x-python",
   "name": "python",
   "nbconvert_exporter": "python",
   "pygments_lexer": "ipython3",
   "version": "3.9.18"
  }
 },
 "nbformat": 4,
 "nbformat_minor": 2
}
