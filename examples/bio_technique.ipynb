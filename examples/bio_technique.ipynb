{
 "cells": [
  {
   "cell_type": "code",
   "execution_count": 1,
   "metadata": {},
   "outputs": [],
   "source": [
    "%load_ext autoreload\n",
    "%autoreload 2"
   ]
  },
  {
   "cell_type": "code",
   "execution_count": 40,
   "metadata": {},
   "outputs": [],
   "source": [
    "import transformers\n",
    "from transformers import AutoTokenizer, AutoModelForTokenClassification\n",
    "from datasets import load_dataset, Dataset\n",
    "import torch\n",
    "from torch.utils.data import DataLoader\n",
    "import matplotlib.pyplot as plt\n",
    "import numpy as np\n",
    "from tqdm import tqdm\n",
    "import logging\n",
    "from torcheval.metrics.functional import multiclass_f1_score, multiclass_confusion_matrix, binary_f1_score\n",
    "from copy import deepcopy, copy\n",
    "import seaborn as sns\n",
    "import pandas as pd\n",
    "\n",
    "from few_shot_learning_nlp.few_shot_ner_image_documents.bio_technique import BioTrainer\n",
    "from few_shot_learning_nlp.few_shot_ner_image_documents.image_dataset import ImageLayoutDataset\n",
    "from few_shot_learning_nlp.few_shot_ner_image_documents.bio_technique_dataset import generate_dataset"
   ]
  },
  {
   "cell_type": "code",
   "execution_count": 4,
   "metadata": {},
   "outputs": [],
   "source": [
    "device = \"cuda\" if torch.cuda.is_available() else \"cpu\""
   ]
  },
  {
   "cell_type": "markdown",
   "metadata": {},
   "source": [
    "## Loading FUNSD Dataset"
   ]
  },
  {
   "cell_type": "code",
   "execution_count": 5,
   "metadata": {},
   "outputs": [
    {
     "name": "stderr",
     "output_type": "stream",
     "text": [
      "/users/eleves-a/2022/pedro.silva/few-shot-learning-transformers/.venv/lib64/python3.9/site-packages/datasets/load.py:1429: FutureWarning: The repository for nielsr/funsd contains custom code which must be executed to correctly load the dataset. You can inspect the repository content at https://hf.co/datasets/nielsr/funsd\n",
      "You can avoid this message in future by passing the argument `trust_remote_code=True`.\n",
      "Passing `trust_remote_code=True` will be mandatory to load this dataset from the next major release of `datasets`.\n",
      "  warnings.warn(\n"
     ]
    },
    {
     "data": {
      "application/vnd.jupyter.widget-view+json": {
       "model_id": "2d2b49fccd3d46a69cf738f307142fae",
       "version_major": 2,
       "version_minor": 0
      },
      "text/plain": [
       "Downloading builder script:   0%|          | 0.00/4.54k [00:00<?, ?B/s]"
      ]
     },
     "metadata": {},
     "output_type": "display_data"
    }
   ],
   "source": [
    "funsd_dataset = load_dataset(\"nielsr/funsd\",\n",
    "                             cache_dir = \"/Data/pedro.silva/\")"
   ]
  },
  {
   "cell_type": "code",
   "execution_count": 7,
   "metadata": {},
   "outputs": [],
   "source": [
    "tokenizer = AutoTokenizer.from_pretrained(\"bert-base-uncased\",\n",
    "                                          cache_dir = \"/Data/pedro.silva\")"
   ]
  },
  {
   "cell_type": "code",
   "execution_count": 9,
   "metadata": {},
   "outputs": [],
   "source": [
    "l = funsd_dataset['train'].features['ner_tags'].feature.names"
   ]
  },
  {
   "cell_type": "code",
   "execution_count": 10,
   "metadata": {},
   "outputs": [],
   "source": [
    "idx2label = {}\n",
    "for k, v in enumerate(l):\n",
    "    if v == 'O':\n",
    "        idx2label[k] = \"none\"\n",
    "\n",
    "    else:\n",
    "        idx2label[k] = v.split('-')[1].lower() "
   ]
  },
  {
   "cell_type": "code",
   "execution_count": 36,
   "metadata": {},
   "outputs": [],
   "source": [
    "label_names =[\"header\", \"question\", \"answer\", \"none\"]\n",
    "n_classes= len(label_names)"
   ]
  },
  {
   "cell_type": "code",
   "execution_count": 12,
   "metadata": {},
   "outputs": [
    {
     "data": {
      "text/plain": [
       "'[SEP]'"
      ]
     },
     "execution_count": 12,
     "metadata": {},
     "output_type": "execute_result"
    }
   ],
   "source": [
    "tokenizer.sep_token"
   ]
  },
  {
   "cell_type": "markdown",
   "metadata": {},
   "source": [
    "## Running model without line split"
   ]
  },
  {
   "cell_type": "markdown",
   "metadata": {},
   "source": [
    "### 2 Shots"
   ]
  },
  {
   "cell_type": "code",
   "execution_count": null,
   "metadata": {},
   "outputs": [],
   "source": []
  },
  {
   "cell_type": "markdown",
   "metadata": {},
   "source": [
    "Generate dataset will generate n_shots * num_classes samples in the following format\n",
    "\n",
    "`{`\n",
    "\n",
    "`words: [target_word, SEP, word_1, ..., word_n]`\n",
    "\n",
    "`ner_tags: [1, -100, class of word 1 == target_word, ..., class of word n == target_word]`\n",
    "\n",
    "`}` \n"
   ]
  },
  {
   "cell_type": "code",
   "execution_count": 27,
   "metadata": {},
   "outputs": [],
   "source": [
    "train_data = generate_dataset(\n",
    "    funsd_dataset['train'],\n",
    "    label_names,\n",
    "    idx2label,\n",
    "    tokenizer,\n",
    "    n_shots=2,\n",
    ")\n",
    "\n",
    "val_data = generate_dataset(\n",
    "    Dataset.from_dict(funsd_dataset['train'][10:]),\n",
    "    label_names,\n",
    "    idx2label,\n",
    "    tokenizer,\n",
    "    n_shots=50,\n",
    ")\n",
    "\n",
    "test_data = generate_dataset(\n",
    "    funsd_dataset['test'],\n",
    "    label_names,\n",
    "    idx2label,\n",
    "    tokenizer,\n",
    "    n_shots = np.inf,\n",
    ")"
   ]
  },
  {
   "cell_type": "code",
   "execution_count": 46,
   "metadata": {},
   "outputs": [
    {
     "data": {
      "text/html": [
       "<div>\n",
       "<style scoped>\n",
       "    .dataframe tbody tr th:only-of-type {\n",
       "        vertical-align: middle;\n",
       "    }\n",
       "\n",
       "    .dataframe tbody tr th {\n",
       "        vertical-align: top;\n",
       "    }\n",
       "\n",
       "    .dataframe thead th {\n",
       "        text-align: right;\n",
       "    }\n",
       "</style>\n",
       "<table border=\"1\" class=\"dataframe\">\n",
       "  <thead>\n",
       "    <tr style=\"text-align: right;\">\n",
       "      <th></th>\n",
       "      <th>ner_tags</th>\n",
       "      <th>words</th>\n",
       "      <th>bboxes</th>\n",
       "    </tr>\n",
       "  </thead>\n",
       "  <tbody>\n",
       "    <tr>\n",
       "      <th>0</th>\n",
       "      <td>[1, -100, 0, 0, 0, 0, 0, 0, 0, 0, 1, 1, 1, 1, ...</td>\n",
       "      <td>[header, [SEP], R&amp;D, :, Suggestion:, Date:, Li...</td>\n",
       "      <td>[[0, 0, 0, 0], [0, 0, 0, 0], [383, 91, 493, 17...</td>\n",
       "    </tr>\n",
       "    <tr>\n",
       "      <th>1</th>\n",
       "      <td>[1, -100, 0, 1, 1, 1, 0, 1, 1, 0, 0, 0, 0, 0, ...</td>\n",
       "      <td>[question, [SEP], R&amp;D, :, Suggestion:, Date:, ...</td>\n",
       "      <td>[[0, 0, 0, 0], [0, 0, 0, 0], [383, 91, 493, 17...</td>\n",
       "    </tr>\n",
       "    <tr>\n",
       "      <th>2</th>\n",
       "      <td>[1, -100, 0, 0, 0, 0, 1, 0, 0, 0, 0, 0, 0, 0, ...</td>\n",
       "      <td>[answer, [SEP], R&amp;D, :, Suggestion:, Date:, Li...</td>\n",
       "      <td>[[0, 0, 0, 0], [0, 0, 0, 0], [383, 91, 493, 17...</td>\n",
       "    </tr>\n",
       "    <tr>\n",
       "      <th>3</th>\n",
       "      <td>[1, -100, 1, 0, 0, 0, 0, 0, 0, 1, 0, 0, 0, 0, ...</td>\n",
       "      <td>[none, [SEP], R&amp;D, :, Suggestion:, Date:, Lice...</td>\n",
       "      <td>[[0, 0, 0, 0], [0, 0, 0, 0], [383, 91, 493, 17...</td>\n",
       "    </tr>\n",
       "    <tr>\n",
       "      <th>4</th>\n",
       "      <td>[1, -100, 0, 0, 0, 0, 0, 0, 0, 0, 1, 1, 0, 0, ...</td>\n",
       "      <td>[header, [SEP], Brand:, Style:, PHOENIX, Compa...</td>\n",
       "      <td>[[0, 0, 0, 0], [0, 0, 0, 0], [99, 129, 154, 13...</td>\n",
       "    </tr>\n",
       "    <tr>\n",
       "      <th>5</th>\n",
       "      <td>[1, -100, 1, 1, 0, 1, 1, 1, 0, 0, 0, 0, 1, 1, ...</td>\n",
       "      <td>[question, [SEP], Brand:, Style:, PHOENIX, Com...</td>\n",
       "      <td>[[0, 0, 0, 0], [0, 0, 0, 0], [99, 129, 154, 13...</td>\n",
       "    </tr>\n",
       "    <tr>\n",
       "      <th>6</th>\n",
       "      <td>[1, -100, 0, 0, 1, 0, 0, 0, 1, 1, 0, 0, 0, 0, ...</td>\n",
       "      <td>[answer, [SEP], Brand:, Style:, PHOENIX, Compa...</td>\n",
       "      <td>[[0, 0, 0, 0], [0, 0, 0, 0], [99, 129, 154, 13...</td>\n",
       "    </tr>\n",
       "    <tr>\n",
       "      <th>7</th>\n",
       "      <td>[1, -100, 0, 0, 0, 0, 0, 0, 0, 0, 0, 0, 0, 0, ...</td>\n",
       "      <td>[none, [SEP], Brand:, Style:, PHOENIX, Company...</td>\n",
       "      <td>[[0, 0, 0, 0], [0, 0, 0, 0], [99, 129, 154, 13...</td>\n",
       "    </tr>\n",
       "  </tbody>\n",
       "</table>\n",
       "</div>"
      ],
      "text/plain": [
       "                                            ner_tags  ...                                             bboxes\n",
       "0  [1, -100, 0, 0, 0, 0, 0, 0, 0, 0, 1, 1, 1, 1, ...  ...  [[0, 0, 0, 0], [0, 0, 0, 0], [383, 91, 493, 17...\n",
       "1  [1, -100, 0, 1, 1, 1, 0, 1, 1, 0, 0, 0, 0, 0, ...  ...  [[0, 0, 0, 0], [0, 0, 0, 0], [383, 91, 493, 17...\n",
       "2  [1, -100, 0, 0, 0, 0, 1, 0, 0, 0, 0, 0, 0, 0, ...  ...  [[0, 0, 0, 0], [0, 0, 0, 0], [383, 91, 493, 17...\n",
       "3  [1, -100, 1, 0, 0, 0, 0, 0, 0, 1, 0, 0, 0, 0, ...  ...  [[0, 0, 0, 0], [0, 0, 0, 0], [383, 91, 493, 17...\n",
       "4  [1, -100, 0, 0, 0, 0, 0, 0, 0, 0, 1, 1, 0, 0, ...  ...  [[0, 0, 0, 0], [0, 0, 0, 0], [99, 129, 154, 13...\n",
       "5  [1, -100, 1, 1, 0, 1, 1, 1, 0, 0, 0, 0, 1, 1, ...  ...  [[0, 0, 0, 0], [0, 0, 0, 0], [99, 129, 154, 13...\n",
       "6  [1, -100, 0, 0, 1, 0, 0, 0, 1, 1, 0, 0, 0, 0, ...  ...  [[0, 0, 0, 0], [0, 0, 0, 0], [99, 129, 154, 13...\n",
       "7  [1, -100, 0, 0, 0, 0, 0, 0, 0, 0, 0, 0, 0, 0, ...  ...  [[0, 0, 0, 0], [0, 0, 0, 0], [99, 129, 154, 13...\n",
       "\n",
       "[8 rows x 3 columns]"
      ]
     },
     "execution_count": 46,
     "metadata": {},
     "output_type": "execute_result"
    }
   ],
   "source": [
    "train_data.to_pandas()"
   ]
  },
  {
   "cell_type": "code",
   "execution_count": 29,
   "metadata": {},
   "outputs": [
    {
     "name": "stderr",
     "output_type": "stream",
     "text": [
      "  0%|          | 0/8 [00:00<?, ?it/s]"
     ]
    },
    {
     "name": "stderr",
     "output_type": "stream",
     "text": [
      "100%|██████████| 8/8 [00:00<00:00, 113.12it/s]\n"
     ]
    }
   ],
   "source": [
    "train_dataset = ImageLayoutDataset(\n",
    "    train_data,\n",
    "    tokenizer    \n",
    ")\n",
    "\n",
    "train_dataloader = DataLoader(\n",
    "    train_dataset,\n",
    "    shuffle=False\n",
    ")"
   ]
  },
  {
   "cell_type": "code",
   "execution_count": 30,
   "metadata": {},
   "outputs": [
    {
     "name": "stderr",
     "output_type": "stream",
     "text": [
      "  0%|          | 0/200 [00:00<?, ?it/s]"
     ]
    },
    {
     "name": "stderr",
     "output_type": "stream",
     "text": [
      "100%|██████████| 200/200 [00:01<00:00, 168.88it/s]\n"
     ]
    }
   ],
   "source": [
    "validation_dataset = ImageLayoutDataset(\n",
    "    val_data,\n",
    "    tokenizer    \n",
    ")\n",
    "\n",
    "validation_dataloader = DataLoader(\n",
    "    validation_dataset,\n",
    "    shuffle=False,\n",
    "    batch_size= 4\n",
    ")"
   ]
  },
  {
   "cell_type": "code",
   "execution_count": 31,
   "metadata": {},
   "outputs": [
    {
     "name": "stderr",
     "output_type": "stream",
     "text": [
      "  0%|          | 0/200 [00:00<?, ?it/s]"
     ]
    },
    {
     "name": "stderr",
     "output_type": "stream",
     "text": [
      "100%|██████████| 200/200 [00:01<00:00, 145.66it/s]\n"
     ]
    }
   ],
   "source": [
    "test_dataset = ImageLayoutDataset(\n",
    "    test_data,\n",
    "    tokenizer    \n",
    ")\n",
    "\n",
    "test_dataloader = DataLoader(\n",
    "    test_dataset,\n",
    "    shuffle=False,\n",
    "    batch_size= 4\n",
    ")"
   ]
  },
  {
   "cell_type": "code",
   "execution_count": 37,
   "metadata": {},
   "outputs": [
    {
     "name": "stderr",
     "output_type": "stream",
     "text": [
      "100%|██████████| 100/100 [04:29<00:00,  2.69s/it]"
     ]
    },
    {
     "name": "stdout",
     "output_type": "stream",
     "text": [
      "f1-score : 0.5489790439605713\n",
      "tensor([[  13,   22,   24,    7],\n",
      "        [ 305, 1907,  892,  457],\n",
      "        [ 180,  649, 2036,  697],\n",
      "        [   5,    5,   26,   23]], device='cuda:0')\n"
     ]
    },
    {
     "name": "stderr",
     "output_type": "stream",
     "text": [
      "\n"
     ]
    }
   ],
   "source": [
    "model = AutoModelForTokenClassification.from_pretrained(\n",
    "    \"bert-base-uncased\",\n",
    "    cache_dir = \"/Data/pedro.silva/\",\n",
    "    num_labels = 2\n",
    ")\n",
    "model.to(device)\n",
    "\n",
    "optimizer = torch.optim.Adam(\n",
    "    model.parameters(),\n",
    "    lr = 1e-5\n",
    ")\n",
    "\n",
    "trainer = BioTrainer(\n",
    "    model,\n",
    "    optimizer,\n",
    "    n_classes\n",
    ")\n",
    "\n",
    "history = trainer.train(\n",
    "    train_dataloader, \n",
    "    validation_dataloader,\n",
    "    n_epochs = 100\n",
    ")"
   ]
  },
  {
   "cell_type": "code",
   "execution_count": 38,
   "metadata": {},
   "outputs": [],
   "source": [
    "best_f1, best_epoch = np.max(history), np.argmax(history)"
   ]
  },
  {
   "cell_type": "code",
   "execution_count": 39,
   "metadata": {},
   "outputs": [
    {
     "data": {
      "image/png": "[encoded data removed]",
      "text/plain": [
       "<Figure size 640x480 with 1 Axes>"
      ]
     },
     "metadata": {},
     "output_type": "display_data"
    }
   ],
   "source": [
    "plt.plot(history)\n",
    "plt.scatter(\n",
    "    [best_epoch],\n",
    "    [best_f1],\n",
    "    color = \"green\",\n",
    "    label = f\"Best f1 : {round(best_f1,3)}\"\n",
    ")\n",
    "plt.legend()\n",
    "plt.ylabel(\"f1 score\")\n",
    "plt.xlabel(\"epoch\")\n",
    "plt.title(\"Validation performance - FUNSD - 2 shots\")\n",
    "plt.grid()"
   ]
  },
  {
   "cell_type": "code",
   "execution_count": 42,
   "metadata": {},
   "outputs": [
    {
     "name": "stderr",
     "output_type": "stream",
     "text": [
      "100%|██████████| 50/50 [00:02<00:00, 23.01it/s]\n"
     ]
    }
   ],
   "source": [
    "y_pred, y_true = trainer.test(\n",
    "    test_dataloader\n",
    ")"
   ]
  },
  {
   "cell_type": "code",
   "execution_count": 43,
   "metadata": {},
   "outputs": [],
   "source": [
    "f1 = multiclass_f1_score(\n",
    "    y_pred.to(torch.int64),\n",
    "    y_true.to(torch.int64),\n",
    "    num_classes = n_classes\n",
    ")\n",
    "\n",
    "\n",
    "conf_matrix = multiclass_confusion_matrix(\n",
    "    y_pred.to(torch.int64),\n",
    "    y_true.to(torch.int64),\n",
    "    num_classes = n_classes\n",
    ")\n"
   ]
  },
  {
   "cell_type": "code",
   "execution_count": 45,
   "metadata": {},
   "outputs": [
    {
     "data": {
      "text/plain": [
       "tensor(0.5072, device='cuda:0')"
      ]
     },
     "execution_count": 45,
     "metadata": {},
     "output_type": "execute_result"
    }
   ],
   "source": [
    "f1"
   ]
  }
 ],
 "metadata": {
  "kernelspec": {
   "display_name": ".venv",
   "language": "python",
   "name": "python3"
  },
  "language_info": {
   "codemirror_mode": {
    "name": "ipython",
    "version": 3
   },
   "file_extension": ".py",
   "mimetype": "text/x-python",
   "name": "python",
   "nbconvert_exporter": "python",
   "pygments_lexer": "ipython3",
   "version": "3.9.18"
  }
 },
 "nbformat": 4,
 "nbformat_minor": 2
}
