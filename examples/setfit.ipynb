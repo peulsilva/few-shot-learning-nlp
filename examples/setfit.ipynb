{
 "cells": [
  {
   "cell_type": "code",
   "execution_count": 1,
   "metadata": {},
   "outputs": [],
   "source": [
    "%load_ext autoreload\n",
    "%autoreload 2"
   ]
  },
  {
   "cell_type": "code",
   "execution_count": 31,
   "metadata": {},
   "outputs": [],
   "source": [
    "from datasets import load_dataset\n",
    "import torch\n",
    "import matplotlib.pyplot as plt\n",
    "import numpy as np\n",
    "from tqdm import tqdm\n",
    "import logging\n",
    "from torch.utils.data import DataLoader\n",
    "from torcheval.metrics.functional import multiclass_f1_score, multiclass_confusion_matrix, binary_f1_score\n",
    "import seaborn as sns\n",
    "import pandas as pd\n",
    "import random\n",
    "from sentence_transformers import SentenceTransformer\n",
    "from few_shot_learning_nlp.few_shot_text_classification.setfit import SetFitTrainer\n",
    "from few_shot_learning_nlp.few_shot_text_classification.setfit_dataset import SetFitDataset\n",
    "from few_shot_learning_nlp.utils import stratified_train_test_split\n",
    "from few_shot_learning_nlp.loss import FocalLoss\n",
    "\n",
    "import warnings\n",
    "warnings.filterwarnings(\"ignore\")"
   ]
  },
  {
   "cell_type": "code",
   "execution_count": 3,
   "metadata": {},
   "outputs": [],
   "source": [
    "device = \"cuda\" if torch.cuda.is_available() else \"cpu\""
   ]
  },
  {
   "cell_type": "markdown",
   "metadata": {},
   "source": [
    "## SetFit"
   ]
  },
  {
   "cell_type": "code",
   "execution_count": 4,
   "metadata": {},
   "outputs": [],
   "source": [
    "model = SentenceTransformer(\"whaleloops/phrase-bert\",\n",
    "                            cache_folder= \"/Data/pedro.silva/\")"
   ]
  },
  {
   "cell_type": "code",
   "execution_count": 5,
   "metadata": {},
   "outputs": [],
   "source": [
    "ag_news_dataset = load_dataset(\n",
    "    \"ag_news\", \n",
    "    cache_dir= \"/Data/pedro.silva\"\n",
    ")\n",
    "\n",
    "dataset_name = \"ag_news\""
   ]
  },
  {
   "cell_type": "code",
   "execution_count": 6,
   "metadata": {},
   "outputs": [
    {
     "data": {
      "text/plain": [
       "4"
      ]
     },
     "execution_count": 6,
     "metadata": {},
     "output_type": "execute_result"
    }
   ],
   "source": [
    "num_classes = len(ag_news_dataset['train']\\\n",
    "    .features['label']\\\n",
    "    .names)\n",
    "\n",
    "classes_names = ag_news_dataset['train']\\\n",
    "    .features['label']\\\n",
    "    .names\n",
    "\n",
    "num_classes"
   ]
  },
  {
   "cell_type": "markdown",
   "metadata": {},
   "source": [
    "## Few shot learning approach - 50 shots"
   ]
  },
  {
   "cell_type": "code",
   "execution_count": 7,
   "metadata": {},
   "outputs": [],
   "source": [
    "classes = np.unique(ag_news_dataset['train']['label'])\n",
    "\n",
    "n_shots = 50\n",
    "\n",
    "train_validation, test_df = stratified_train_test_split(\n",
    "    ag_news_dataset['train'],\n",
    "    classes,\n",
    "    train_size = n_shots\n",
    ")\n",
    "train_df, val_df = stratified_train_test_split(\n",
    "    pd.DataFrame(train_validation),\n",
    "    classes,\n",
    "    30\n",
    ")"
   ]
  },
  {
   "cell_type": "code",
   "execution_count": 8,
   "metadata": {},
   "outputs": [],
   "source": [
    "val_df = pd.DataFrame(val_df).to_dict('list')\n",
    "test_df = pd.DataFrame(test_df).sample(n = 1000).to_dict('list')"
   ]
  },
  {
   "cell_type": "code",
   "execution_count": 9,
   "metadata": {},
   "outputs": [],
   "source": [
    "set_fit_data_train = SetFitDataset(\n",
    "    train_df['text'],\n",
    "    train_df['label'], \n",
    "    input_example_format= True\n",
    "    # R = 5\n",
    ")\n",
    "\n",
    "set_fit_data_val = SetFitDataset(\n",
    "    val_df['text'], \n",
    "    val_df['label'],\n",
    "    # R = 5,\n",
    "    input_example_format= False\n",
    ")"
   ]
  },
  {
   "cell_type": "code",
   "execution_count": 10,
   "metadata": {},
   "outputs": [],
   "source": [
    "train_dataloader = DataLoader(\n",
    "    set_fit_data_train.data,\n",
    "    shuffle=False\n",
    ")\n",
    "\n",
    "val_dataloader = DataLoader(\n",
    "    set_fit_data_val\n",
    ")"
   ]
  },
  {
   "cell_type": "markdown",
   "metadata": {},
   "source": [
    "## Training embedding"
   ]
  },
  {
   "cell_type": "code",
   "execution_count": 11,
   "metadata": {},
   "outputs": [],
   "source": [
    "class CLF(torch.nn.Module):\n",
    "    def __init__(\n",
    "        self,\n",
    "        in_features : int,\n",
    "        out_features : int, \n",
    "        *args, \n",
    "        **kwargs\n",
    "    ) -> None:\n",
    "        super().__init__(*args, **kwargs)\n",
    "\n",
    "        self.layer1 = torch.nn.Linear(in_features, 128)\n",
    "        self.relu = torch.nn.ReLU()\n",
    "        self.layer2 = torch.nn.Linear(128, 32)\n",
    "        self.layer3 = torch.nn.Linear(32, out_features)\n",
    "\n",
    "    def forward(self, x : torch.Tensor):\n",
    "        x = self.layer1(x)\n",
    "        x = self.relu(x)\n",
    "        x = self.layer2(x)\n",
    "        x = self.relu(x)\n",
    "        return self.layer3(x)\n",
    "    "
   ]
  },
  {
   "cell_type": "code",
   "execution_count": 12,
   "metadata": {},
   "outputs": [],
   "source": [
    "embedding_model = SentenceTransformer(\n",
    "    \"whaleloops/phrase-bert\",\n",
    "    cache_folder=\"/Data/pedro.silva/\"\n",
    ").to(device)\n",
    "\n",
    "in_features = embedding_model.get_sentence_embedding_dimension()\n",
    "\n",
    "clf = CLF(\n",
    "    in_features,\n",
    "    num_classes,\n",
    ").to(device)\n",
    "\n",
    "\n",
    "\n",
    "trainer = SetFitTrainer(\n",
    "    embedding_model,\n",
    "    clf,\n",
    "    num_classes\n",
    ")"
   ]
  },
  {
   "cell_type": "code",
   "execution_count": 13,
   "metadata": {},
   "outputs": [
    {
     "name": "stdout",
     "output_type": "stream",
     "text": [
      "f1 score: 0.7352941632270813\n",
      "tensor([[147,   3],\n",
      "        [ 15,  25]], device='cuda:0')\n"
     ]
    }
   ],
   "source": [
    "trainer.train_embedding(\n",
    "    train_dataloader,\n",
    "    val_dataloader,\n",
    "    n_epochs=10,\n",
    ")"
   ]
  },
  {
   "cell_type": "markdown",
   "metadata": {},
   "source": [
    "### Training classifier "
   ]
  },
  {
   "cell_type": "code",
   "execution_count": 14,
   "metadata": {},
   "outputs": [],
   "source": [
    "from random import shuffle\n",
    "def shuffle_two_lists(X, y ):\n",
    "    X_shuff = []\n",
    "    y_shuff = []\n",
    "    index_shuf = list(range(len(X)))\n",
    "    shuffle(index_shuf)\n",
    "    for i in index_shuf:\n",
    "        X_shuff.append(X[i])\n",
    "        y_shuff.append(y[i])\n",
    "\n",
    "\n",
    "    return X_shuff, y_shuff\n"
   ]
  },
  {
   "cell_type": "code",
   "execution_count": null,
   "metadata": {},
   "outputs": [],
   "source": []
  },
  {
   "cell_type": "code",
   "execution_count": 15,
   "metadata": {},
   "outputs": [],
   "source": [
    "_, class_counts = np.unique(\n",
    "    train_df['label'],\n",
    "    return_counts=True,\n",
    ")\n",
    "\n",
    "alpha = len(train_df['label'])/class_counts"
   ]
  },
  {
   "cell_type": "code",
   "execution_count": 21,
   "metadata": {},
   "outputs": [
    {
     "name": "stdout",
     "output_type": "stream",
     "text": [
      "---------Epoch: 14-----------\n",
      "f1 score: 0.8500000238418579\n",
      "tensor([[2, 0, 1, 2],\n",
      "        [0, 5, 0, 0],\n",
      "        [0, 0, 5, 0],\n",
      "        [0, 0, 0, 5]], device='cuda:0')\n"
     ]
    }
   ],
   "source": [
    "\n",
    "\n",
    "X_train_shuffled , y_train_shuffled = shuffle_two_lists(\n",
    "    train_df['text'], \n",
    "    train_df['label']\n",
    ")\n",
    "\n",
    "history, embedding_model, clf = trainer.train_classifier(\n",
    "    X_train_shuffled,\n",
    "    y_train_shuffled,\n",
    "    val_df['text'],\n",
    "    val_df['label'],\n",
    "    loss_fn= FocalLoss(alpha,2),\n",
    "    clf = CLF(in_features, num_classes),\n",
    "    n_epochs=15,\n",
    "    lr = 1e-4\n",
    ")"
   ]
  },
  {
   "cell_type": "code",
   "execution_count": 22,
   "metadata": {},
   "outputs": [],
   "source": [
    "best_epoch = 0\n",
    "best_f1 = np.max(history)\n",
    "for idx, f1 in enumerate(history):\n",
    "    if f1 == best_f1.item():\n",
    "        best_epoch = idx"
   ]
  },
  {
   "cell_type": "code",
   "execution_count": 23,
   "metadata": {},
   "outputs": [
    {
     "data": {
      "text/plain": [
       "14"
      ]
     },
     "execution_count": 23,
     "metadata": {},
     "output_type": "execute_result"
    }
   ],
   "source": [
    "best_epoch"
   ]
  },
  {
   "cell_type": "code",
   "execution_count": 24,
   "metadata": {},
   "outputs": [
    {
     "data": {
      "text/plain": [
       "Text(0.5, 1.0, 'SetFit training results- AG news - 50 shots')"
      ]
     },
     "execution_count": 24,
     "metadata": {},
     "output_type": "execute_result"
    },
    {
     "data": {
      "image/png": "[encoded data removed]",
      "text/plain": [
       "<Figure size 640x480 with 1 Axes>"
      ]
     },
     "metadata": {},
     "output_type": "display_data"
    }
   ],
   "source": [
    "# history = ([k.to('cpu').numpy() for k in history])\n",
    "plt.plot(history)\n",
    "plt.scatter(\n",
    "    [best_epoch], \n",
    "    best_f1.item(),\n",
    "    color = \"green\",\n",
    "    label = f\"Best f1 : {round(best_f1.item(),3)}\"\n",
    ")\n",
    "plt.grid()\n",
    "plt.legend()\n",
    "plt.ylabel(\"f1 score\")\n",
    "plt.xlabel(\"epoch\")\n",
    "plt.tight_layout()\n",
    "plt.title(\"SetFit training results- AG news - 50 shots\")"
   ]
  },
  {
   "cell_type": "markdown",
   "metadata": {},
   "source": [
    "## Inference"
   ]
  },
  {
   "cell_type": "code",
   "execution_count": 25,
   "metadata": {},
   "outputs": [
    {
     "name": "stderr",
     "output_type": "stream",
     "text": [
      "  0%|          | 0/1000 [00:00<?, ?it/s]"
     ]
    },
    {
     "name": "stderr",
     "output_type": "stream",
     "text": [
      "100%|██████████| 1000/1000 [00:08<00:00, 122.26it/s]\n"
     ]
    }
   ],
   "source": [
    "y_true, y_pred = trainer.test(test_df)"
   ]
  },
  {
   "cell_type": "code",
   "execution_count": 30,
   "metadata": {},
   "outputs": [
    {
     "data": {
      "text/plain": [
       "tensor(0.7840, device='cuda:0')"
      ]
     },
     "execution_count": 30,
     "metadata": {},
     "output_type": "execute_result"
    }
   ],
   "source": [
    "f1 = multiclass_f1_score(\n",
    "    y_pred,\n",
    "    y_true,\n",
    "    num_classes=num_classes\n",
    ")\n",
    "f1"
   ]
  },
  {
   "cell_type": "code",
   "execution_count": 28,
   "metadata": {},
   "outputs": [],
   "source": [
    "conf_matrix = multiclass_confusion_matrix(\n",
    "    y_true.to(torch.int64),\n",
    "    y_pred.to(torch.int64),\n",
    "    num_classes\n",
    ")"
   ]
  },
  {
   "cell_type": "code",
   "execution_count": 29,
   "metadata": {},
   "outputs": [
    {
     "data": {
      "text/plain": [
       "Text(0.5, 1.0, 'Confusion Matrix ag_news - SetFit - 50 shots')"
      ]
     },
     "execution_count": 29,
     "metadata": {},
     "output_type": "execute_result"
    },
    {
     "data": {
      "image/png": "[encoded data removed]",
      "text/plain": [
       "<Figure size 640x480 with 2 Axes>"
      ]
     },
     "metadata": {},
     "output_type": "display_data"
    }
   ],
   "source": [
    "df = pd.DataFrame(\n",
    "    conf_matrix.to(\"cpu\").numpy(),\n",
    "    index = classes_names,\n",
    "    columns=classes_names\n",
    "    \n",
    ")\n",
    "\n",
    "sns.heatmap(\n",
    "    df,\n",
    "    annot = True,\n",
    "    fmt = '2g',\n",
    ")\n",
    "\n",
    "plt.title(f\"Confusion Matrix {dataset_name} - SetFit - {n_shots} shots\")"
   ]
  },
  {
   "cell_type": "code",
   "execution_count": null,
   "metadata": {},
   "outputs": [],
   "source": []
  }
 ],
 "metadata": {
  "kernelspec": {
   "display_name": ".venv",
   "language": "python",
   "name": "python3"
  },
  "language_info": {
   "codemirror_mode": {
    "name": "ipython",
    "version": 3
   },
   "file_extension": ".py",
   "mimetype": "text/x-python",
   "name": "python",
   "nbconvert_exporter": "python",
   "pygments_lexer": "ipython3",
   "version": "3.9.18"
  }
 },
 "nbformat": 4,
 "nbformat_minor": 2
}
